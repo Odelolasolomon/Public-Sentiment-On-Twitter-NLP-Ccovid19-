{
 "cells": [
  {
   "cell_type": "markdown",
   "metadata": {},
   "source": [
    "# Exploring Public Sentiment on Twitter: An NLP Approach"
   ]
  },
  {
   "cell_type": "markdown",
   "metadata": {},
   "source": [
    "- os: A module for interacting with the operating system, facilitating file and directory manipulation.\n",
    "re: A module for processing strings using regular expressions.\n",
    "- pandas: A library for data manipulation and analysis that uses robust data structures.\n",
    "- numpy: A library for numerical operations, especially on large arrays and matrices.\n",
    "- seaborn: A library for creating informative and attractive statistical visualizations.\n",
    "- matplotlib: A library for creating static, animated, or interactive visualizations.\n",
    "- nltk: The Natural Language Toolkit library containing a set of libraries and programs for symbolic and statistical natural language processing (NLP) of the English language.\n",
    "- sklearn: A machine learning library featuring various algorithms and tools.\n",
    "- plotly_express: A high-level interface for drawing attractive and informative graphics using the Plotly library.\n",
    "-genesis: A library for topic modeling and document similarity analysis.\n",
    "- pyLDAvis: A Python library for interactive topic model visualization. It can be used in conjunction with a variety of topic modeling packages.\n",
    "- wordcloud: A library for generating word clouds.\n",
    "- nbconvert: A tool for converting Jupyter notebooks to HTML, LaTeX, PDF, Markdown, and more"
   ]
  },
  {
   "cell_type": "markdown",
   "metadata": {},
   "source": [
    "#### Data Description\n",
    "- Data Source [https://www.kaggle.com/datasets/gpreda/covid19-tweets]\n",
    "\n",
    "> Data Description\n",
    "> The dataset consists of the following columns:\n",
    "- user_name: The Twitter user posting the tweet.\n",
    "- user_location: The location provided by the user in their Twitter profile.\n",
    "- user_description: The self-description provided by the Twitter user in their profile.\n",
    "- user_created: The date and time of when the user’s Twitter account was created.\n",
    "- user_followers: The number of followers of the Twitter user.\n",
    "- user_friends: The number of other Twitter users that the user follows.\n",
    "- user_favourites: The number of tweets marked by the user as their favorites.\n",
    "- user_verified: This indicates if Twitter has verified the user’s account.\n",
    "- date: The date and time of when the tweet was posted.\n",
    "- text: The content of the tweet.\n",
    "- hashtags: The hashtags used in the tweet.\n",
    "- source: The device or application used to post the tweet.\n",
    "- is_retweet: This indicates if the tweet is a retweet of another user’s tweet.\n",
    "- language: The identified language of the tweet.\n",
    "- lat: The latitude coordinate of the location from which the tweet is posted, if available.\n",
    "- long: The longitude coordinate of the location from which the tweet is posted, if available.\n",
    "- country: The country from where the tweet is posted, if available.``\n"
   ]
  },
  {
   "cell_type": "markdown",
   "metadata": {},
   "source": [
    "## Part 1: Setting Up"
   ]
  },
  {
   "cell_type": "code",
   "execution_count": 12,
   "metadata": {},
   "outputs": [],
   "source": [
    "# Importing InteractiveShell from IPython.core.interactiveshell module\n",
    "from IPython.core.interactiveshell import InteractiveShell\n",
    "\n",
    "# Setting the ast_node_interactivity option of InteractiveShell to \"all\"\n",
    "# This allows IPython to display results for all statements in a code cell\n",
    "# rather than just the last one, which is the default behavior.\n",
    "InteractiveShell.ast_node_interactivity = \"all\"\n",
    "\n",
    "import warnings\n",
    "import matplotlib\n",
    "\n",
    "# Suppress the specific MatplotlibDeprecationWarning\n",
    "warnings.filterwarnings(\"ignore\", category=matplotlib.cbook.MatplotlibDeprecationWarning)"
   ]
  },
  {
   "cell_type": "markdown",
   "metadata": {},
   "source": [
    "### Task 1: Import the Libraries"
   ]
  },
  {
   "cell_type": "code",
   "execution_count": 13,
   "metadata": {},
   "outputs": [],
   "source": [
    "import os  \n",
    "import re \n",
    "import pandas as pd  \n",
    "import numpy as np \n",
    "import seaborn as sns  \n",
    "import matplotlib.pyplot as plt \n",
    "from nltk.tokenize import word_tokenize \n",
    "from nltk.corpus import stopwords\n",
    "from nltk.stem import WordNetLemmatizer, PorterStemmer\n",
    "from nltk.sentiment.vader import SentimentIntensityAnalyzer\n",
    "from sklearn.decomposition import LatentDirichletAllocation\n",
    "from sklearn.feature_extraction.text import CountVectorizer\n",
    "import plotly_express as px\n",
    "from gensim.corpora import Dictionary\n",
    "from gensim.models.ldamulticore import LdaMulticore\n",
    "from gensim.models.coherencemodel import CoherenceModel\n",
    "import pyLDAvis.gensim\n",
    "from wordcloud import WordCloud\n",
    "import nbconvert"
   ]
  },
  {
   "cell_type": "markdown",
   "metadata": {},
   "source": [
    "## Part 2: Data Collection and Preprocessing"
   ]
  },
  {
   "cell_type": "markdown",
   "metadata": {},
   "source": [
    "### Task 2: Load the Dataset and Have a First Look"
   ]
  },
  {
   "cell_type": "markdown",
   "metadata": {},
   "source": [
    "##### Load the CSV into a variable named `df_twitter`"
   ]
  },
  {
   "cell_type": "code",
   "execution_count": 14,
   "metadata": {},
   "outputs": [],
   "source": [
    "df_twitter = pd.read_csv('./usercode/covid19_twitter_dataset.csv', index_col=0)"
   ]
  },
  {
   "cell_type": "markdown",
   "metadata": {},
   "source": [
    "##### Display the DataFrame along with the row count"
   ]
  },
  {
   "cell_type": "code",
   "execution_count": 15,
   "metadata": {},
   "outputs": [
    {
     "name": "stdout",
     "output_type": "stream",
     "text": [
      "(111973, 17)\n"
     ]
    },
    {
     "data": {
      "text/html": [
       "<div>\n",
       "<style scoped>\n",
       "    .dataframe tbody tr th:only-of-type {\n",
       "        vertical-align: middle;\n",
       "    }\n",
       "\n",
       "    .dataframe tbody tr th {\n",
       "        vertical-align: top;\n",
       "    }\n",
       "\n",
       "    .dataframe thead th {\n",
       "        text-align: right;\n",
       "    }\n",
       "</style>\n",
       "<table border=\"1\" class=\"dataframe\">\n",
       "  <thead>\n",
       "    <tr style=\"text-align: right;\">\n",
       "      <th></th>\n",
       "      <th>user_name</th>\n",
       "      <th>user_location</th>\n",
       "      <th>user_description</th>\n",
       "      <th>user_created</th>\n",
       "      <th>user_followers</th>\n",
       "      <th>user_friends</th>\n",
       "      <th>user_favourites</th>\n",
       "      <th>user_verified</th>\n",
       "      <th>date</th>\n",
       "      <th>text</th>\n",
       "      <th>hashtags</th>\n",
       "      <th>source</th>\n",
       "      <th>is_retweet</th>\n",
       "      <th>language</th>\n",
       "      <th>lat</th>\n",
       "      <th>long</th>\n",
       "      <th>country</th>\n",
       "    </tr>\n",
       "  </thead>\n",
       "  <tbody>\n",
       "    <tr>\n",
       "      <th>0</th>\n",
       "      <td>Tom Basile 🇺🇸</td>\n",
       "      <td>new york, ny</td>\n",
       "      <td>Husband, Father, Columnist &amp; Commentator. Auth...</td>\n",
       "      <td>2009-04-16 20:06:23</td>\n",
       "      <td>2253</td>\n",
       "      <td>1677</td>\n",
       "      <td>24</td>\n",
       "      <td>True</td>\n",
       "      <td>2020-07-25 12:27:17</td>\n",
       "      <td>Hey @Yankees @YankeesPR and @MLB - wouldn't it...</td>\n",
       "      <td>NaN</td>\n",
       "      <td>Twitter for Android</td>\n",
       "      <td>False</td>\n",
       "      <td>en</td>\n",
       "      <td>40.712728</td>\n",
       "      <td>-74.006015</td>\n",
       "      <td>United States</td>\n",
       "    </tr>\n",
       "    <tr>\n",
       "      <th>1</th>\n",
       "      <td>Time4fisticuffs</td>\n",
       "      <td>pewee valley, ky</td>\n",
       "      <td>#Christian #Catholic #Conservative #Reagan #Re...</td>\n",
       "      <td>2009-02-28 18:57:41</td>\n",
       "      <td>9275</td>\n",
       "      <td>9525</td>\n",
       "      <td>7254</td>\n",
       "      <td>False</td>\n",
       "      <td>2020-07-25 12:27:14</td>\n",
       "      <td>@diane3443 @wdunlap @realDonaldTrump Trump nev...</td>\n",
       "      <td>['COVID19']</td>\n",
       "      <td>Twitter for Android</td>\n",
       "      <td>False</td>\n",
       "      <td>en</td>\n",
       "      <td>38.310625</td>\n",
       "      <td>-85.487459</td>\n",
       "      <td>United States</td>\n",
       "    </tr>\n",
       "    <tr>\n",
       "      <th>2</th>\n",
       "      <td>DIPR-J&amp;K</td>\n",
       "      <td>jammu and kashmir</td>\n",
       "      <td>🖊️Official Twitter handle of Department of Inf...</td>\n",
       "      <td>2017-02-12 06:45:15</td>\n",
       "      <td>101009</td>\n",
       "      <td>168</td>\n",
       "      <td>101</td>\n",
       "      <td>False</td>\n",
       "      <td>2020-07-25 12:27:08</td>\n",
       "      <td>25 July : Media Bulletin on Novel #CoronaVirus...</td>\n",
       "      <td>['CoronaVirusUpdates', 'COVID19']</td>\n",
       "      <td>Twitter for Android</td>\n",
       "      <td>False</td>\n",
       "      <td>en</td>\n",
       "      <td>33.664930</td>\n",
       "      <td>75.162958</td>\n",
       "      <td>India</td>\n",
       "    </tr>\n",
       "    <tr>\n",
       "      <th>3</th>\n",
       "      <td>🎹 Franz Schubert</td>\n",
       "      <td>новоро́ссия</td>\n",
       "      <td>🎼  #Новоро́ссия #Novorossiya #оставайсядома #S...</td>\n",
       "      <td>2018-03-19 16:29:52</td>\n",
       "      <td>1180</td>\n",
       "      <td>1071</td>\n",
       "      <td>1287</td>\n",
       "      <td>False</td>\n",
       "      <td>2020-07-25 12:27:06</td>\n",
       "      <td>#coronavirus #covid19 deaths continue to rise....</td>\n",
       "      <td>['coronavirus', 'covid19']</td>\n",
       "      <td>Twitter Web App</td>\n",
       "      <td>False</td>\n",
       "      <td>en</td>\n",
       "      <td>43.341088</td>\n",
       "      <td>132.625674</td>\n",
       "      <td>Россия</td>\n",
       "    </tr>\n",
       "    <tr>\n",
       "      <th>5</th>\n",
       "      <td>Creativegms</td>\n",
       "      <td>dhaka,bangladesh</td>\n",
       "      <td>I'm Motalib Mia, Logo -Logo Designer - Brandin...</td>\n",
       "      <td>2020-01-12 09:03:01</td>\n",
       "      <td>241</td>\n",
       "      <td>1694</td>\n",
       "      <td>8443</td>\n",
       "      <td>False</td>\n",
       "      <td>2020-07-25 12:26:50</td>\n",
       "      <td>Order here: https://t.co/4NUrGX6EmA\\n\\n#logo #...</td>\n",
       "      <td>['logo', 'graphicdesigner', 'logodesign', 'log...</td>\n",
       "      <td>Twitter Web App</td>\n",
       "      <td>False</td>\n",
       "      <td>en</td>\n",
       "      <td>23.764402</td>\n",
       "      <td>90.389015</td>\n",
       "      <td>বাংলাদেশ</td>\n",
       "    </tr>\n",
       "  </tbody>\n",
       "</table>\n",
       "</div>"
      ],
      "text/plain": [
       "          user_name      user_location  \\\n",
       "0     Tom Basile 🇺🇸       new york, ny   \n",
       "1   Time4fisticuffs   pewee valley, ky   \n",
       "2          DIPR-J&K  jammu and kashmir   \n",
       "3  🎹 Franz Schubert        новоро́ссия   \n",
       "5       Creativegms   dhaka,bangladesh   \n",
       "\n",
       "                                    user_description         user_created  \\\n",
       "0  Husband, Father, Columnist & Commentator. Auth...  2009-04-16 20:06:23   \n",
       "1  #Christian #Catholic #Conservative #Reagan #Re...  2009-02-28 18:57:41   \n",
       "2  🖊️Official Twitter handle of Department of Inf...  2017-02-12 06:45:15   \n",
       "3  🎼  #Новоро́ссия #Novorossiya #оставайсядома #S...  2018-03-19 16:29:52   \n",
       "5  I'm Motalib Mia, Logo -Logo Designer - Brandin...  2020-01-12 09:03:01   \n",
       "\n",
       "   user_followers  user_friends  user_favourites  user_verified  \\\n",
       "0            2253          1677               24           True   \n",
       "1            9275          9525             7254          False   \n",
       "2          101009           168              101          False   \n",
       "3            1180          1071             1287          False   \n",
       "5             241          1694             8443          False   \n",
       "\n",
       "                  date                                               text  \\\n",
       "0  2020-07-25 12:27:17  Hey @Yankees @YankeesPR and @MLB - wouldn't it...   \n",
       "1  2020-07-25 12:27:14  @diane3443 @wdunlap @realDonaldTrump Trump nev...   \n",
       "2  2020-07-25 12:27:08  25 July : Media Bulletin on Novel #CoronaVirus...   \n",
       "3  2020-07-25 12:27:06  #coronavirus #covid19 deaths continue to rise....   \n",
       "5  2020-07-25 12:26:50  Order here: https://t.co/4NUrGX6EmA\\n\\n#logo #...   \n",
       "\n",
       "                                            hashtags               source  \\\n",
       "0                                                NaN  Twitter for Android   \n",
       "1                                        ['COVID19']  Twitter for Android   \n",
       "2                  ['CoronaVirusUpdates', 'COVID19']  Twitter for Android   \n",
       "3                         ['coronavirus', 'covid19']      Twitter Web App   \n",
       "5  ['logo', 'graphicdesigner', 'logodesign', 'log...      Twitter Web App   \n",
       "\n",
       "   is_retweet language        lat        long        country  \n",
       "0       False       en  40.712728  -74.006015  United States  \n",
       "1       False       en  38.310625  -85.487459  United States  \n",
       "2       False       en  33.664930   75.162958          India  \n",
       "3       False       en  43.341088  132.625674         Россия  \n",
       "5       False       en  23.764402   90.389015       বাংলাদেশ  "
      ]
     },
     "execution_count": 15,
     "metadata": {},
     "output_type": "execute_result"
    }
   ],
   "source": [
    "\n",
    "print(df_twitter.shape)\n",
    "df_twitter.head()"
   ]
  },
  {
   "cell_type": "markdown",
   "metadata": {},
   "source": [
    "##### Show the tweet count for the top 10 countries"
   ]
  },
  {
   "cell_type": "code",
   "execution_count": 16,
   "metadata": {},
   "outputs": [
    {
     "data": {
      "text/plain": [
       "United States     41931\n",
       "India             19473\n",
       "United Kingdom    11544\n",
       "Canada             6679\n",
       "Australia          4370\n",
       "Nigeria            2632\n",
       "South Africa       2415\n",
       "Éire / Ireland     1545\n",
       "Kenya              1493\n",
       "中国                 1141\n",
       "Name: country, dtype: int64"
      ]
     },
     "execution_count": 16,
     "metadata": {},
     "output_type": "execute_result"
    }
   ],
   "source": [
    "df_twitter['country'].value_counts()[:10]"
   ]
  },
  {
   "cell_type": "markdown",
   "metadata": {},
   "source": [
    "##### Plot the top 20 users who post the most"
   ]
  },
  {
   "cell_type": "code",
   "execution_count": 17,
   "metadata": {},
   "outputs": [
    {
     "data": {
      "text/plain": [
       "<Axes: >"
      ]
     },
     "execution_count": 17,
     "metadata": {},
     "output_type": "execute_result"
    },
    {
     "data": {
      "image/png": "[encoded data removed]",
      "text/plain": [
       "<Figure size 640x480 with 1 Axes>"
      ]
     },
     "metadata": {},
     "output_type": "display_data"
    }
   ],
   "source": [
    "df_twitter['user_name'].value_counts()[:20].plot(kind='barh')"
   ]
  },
  {
   "cell_type": "markdown",
   "metadata": {},
   "source": [
    "### Task 3: Basic Text Preprocessing"
   ]
  },
  {
   "cell_type": "markdown",
   "metadata": {},
   "source": [
    "##### Remove unnecessary columns for the analysis"
   ]
  },
  {
   "cell_type": "code",
   "execution_count": 18,
   "metadata": {},
   "outputs": [],
   "source": [
    "df_twitter.drop(['user_description','user_created','user_favourites','language'], axis=1, inplace=True)"
   ]
  },
  {
   "cell_type": "markdown",
   "metadata": {},
   "source": [
    "##### Check for missing values and handle them"
   ]
  },
  {
   "cell_type": "code",
   "execution_count": 19,
   "metadata": {},
   "outputs": [
    {
     "data": {
      "text/plain": [
       "user_name             0\n",
       "user_location         0\n",
       "user_followers        0\n",
       "user_friends          0\n",
       "user_verified         0\n",
       "date                  0\n",
       "text                  0\n",
       "hashtags          32184\n",
       "source                0\n",
       "is_retweet            0\n",
       "lat                   0\n",
       "long                  0\n",
       "country               0\n",
       "dtype: int64"
      ]
     },
     "execution_count": 19,
     "metadata": {},
     "output_type": "execute_result"
    }
   ],
   "source": [
    "df_twitter.isnull().sum() # to check for missing values\n"
   ]
  },
  {
   "cell_type": "code",
   "execution_count": 20,
   "metadata": {},
   "outputs": [
    {
     "data": {
      "text/plain": [
       "user_name         0\n",
       "user_location     0\n",
       "user_followers    0\n",
       "user_friends      0\n",
       "user_verified     0\n",
       "date              0\n",
       "text              0\n",
       "hashtags          0\n",
       "source            0\n",
       "is_retweet        0\n",
       "lat               0\n",
       "long              0\n",
       "country           0\n",
       "dtype: int64"
      ]
     },
     "execution_count": 20,
     "metadata": {},
     "output_type": "execute_result"
    }
   ],
   "source": [
    "# Fill missing values in 'hashtags' with an empty list\n",
    "df_twitter['hashtags'].fillna(\"[]\", inplace=True)\n",
    "df_twitter.isnull().sum() # to check for missing values\n",
    "\n"
   ]
  },
  {
   "cell_type": "code",
   "execution_count": 21,
   "metadata": {},
   "outputs": [
    {
     "data": {
      "text/plain": [
       "0                                                   []\n",
       "1                                          ['COVID19']\n",
       "2                    ['CoronaVirusUpdates', 'COVID19']\n",
       "3                           ['coronavirus', 'covid19']\n",
       "5    ['logo', 'graphicdesigner', 'logodesign', 'log...\n",
       "Name: hashtags, dtype: object"
      ]
     },
     "execution_count": 21,
     "metadata": {},
     "output_type": "execute_result"
    }
   ],
   "source": [
    "df_twitter['hashtags'].head()"
   ]
  },
  {
   "cell_type": "markdown",
   "metadata": {},
   "source": [
    "##### Convert `date` column to datetime object and extract features"
   ]
  },
  {
   "cell_type": "code",
   "execution_count": 22,
   "metadata": {},
   "outputs": [],
   "source": [
    "df_twitter['date'] = pd.to_datetime(df_twitter['date'])\n",
    "df_twitter['year'] = df_twitter['date'].dt.year\n",
    "df_twitter['month'] = df_twitter['date'].dt.month\n",
    "df_twitter['day'] = df_twitter['date'].dt.day\n",
    "df_twitter['hour'] = df_twitter['date'].dt.hour\n",
    "df_twitter['day_of_week'] = df_twitter['date'].dt.dayofweek"
   ]
  },
  {
   "cell_type": "code",
   "execution_count": 23,
   "metadata": {},
   "outputs": [
    {
     "data": {
      "text/plain": [
       "Index(['user_name', 'user_location', 'user_followers', 'user_friends',\n",
       "       'user_verified', 'date', 'text', 'hashtags', 'source', 'is_retweet',\n",
       "       'lat', 'long', 'country', 'year', 'month', 'day', 'hour',\n",
       "       'day_of_week'],\n",
       "      dtype='object')"
      ]
     },
     "execution_count": 23,
     "metadata": {},
     "output_type": "execute_result"
    }
   ],
   "source": [
    "df_twitter.columns"
   ]
  },
  {
   "cell_type": "markdown",
   "metadata": {},
   "source": [
    "##### Apply `basic_clean_text()` function to `text` column"
   ]
  },
  {
   "cell_type": "code",
   "execution_count": 24,
   "metadata": {},
   "outputs": [],
   "source": [
    "def basic_clean_text(text):\n",
    "    # Convert to lowercase\n",
    "    text = text.lower()\n",
    "    \n",
    "    # Remove extra whitespace\n",
    "    text = re.sub(r\" +\", ' ', text, flags=re.MULTILINE)\n",
    "    \n",
    "    # Remove URLs\n",
    "    text = re.sub(r\"http\\S+|www\\S+|https\\S+\", '', text, flags=re.MULTILINE)\n",
    "    \n",
    "    # remove HTML tags\n",
    "    text = text.replace('<.*?>', '')   \n",
    "    \n",
    "     # remove non-alphanumeric characters\n",
    "    text = text.replace('[^A-Za-z0-9]+', '') \n",
    "    \n",
    "    # Remove punctuation \n",
    "    text = re.sub(r'[^\\w\\s]', '', text)\n",
    "    \n",
    "    # Remove numbers\n",
    "    text = re.sub(r'\\d+', '', text)\n",
    "    \n",
    "    return text\n",
    "\n",
    "df_twitter['text'] = df_twitter['text'].apply(basic_clean_text)"
   ]
  },
  {
   "cell_type": "code",
   "execution_count": 25,
   "metadata": {},
   "outputs": [
    {
     "data": {
      "text/plain": [
       "0    hey yankees yankeespr and mlb  wouldnt it have...\n",
       "1    diane wdunlap realdonaldtrump trump never once...\n",
       "2     july  media bulletin on novel coronavirusupda...\n",
       "3    coronavirus covid deaths continue to rise its ...\n",
       "5    order here \\n\\nlogo graphicdesigner logodesign...\n",
       "Name: text, dtype: object"
      ]
     },
     "execution_count": 25,
     "metadata": {},
     "output_type": "execute_result"
    }
   ],
   "source": [
    "df_twitter['text'].head()"
   ]
  },
  {
   "cell_type": "markdown",
   "metadata": {},
   "source": [
    "### Task 4: Implement Advanced Text Preprocessing"
   ]
  },
  {
   "cell_type": "markdown",
   "metadata": {},
   "source": [
    "- Break down the text into individual words or tokens for analysis (tokenization).\n",
    "- Remove common words like “the,” “is,” and “in” to focus on the most relevant content. This is known as stop word removal.\n",
    "- Reduce the words to their base or root form to avoid redundancy. For example, “Songs” becomes “Song” and “Texts” becomes “Text.” This is known as stemming"
   ]
  },
  {
   "cell_type": "markdown",
   "metadata": {},
   "source": [
    "##### Apply `advanced_text_preprocessing()` function to `text` column"
   ]
  },
  {
   "cell_type": "code",
   "execution_count": 26,
   "metadata": {},
   "outputs": [],
   "source": [
    "def advanced_text_preprocessing(text):\n",
    "    # Tokenization\n",
    "    tokens = word_tokenize(text)\n",
    "    \n",
    "    # Stopword Removal\n",
    "    stop_words = set(stopwords.words('english'))\n",
    "    filtered_tokens = [word for word in tokens if word.lower() not in stop_words]\n",
    "    \n",
    "    # Lemmatization\n",
    "    lemmatizer = WordNetLemmatizer()\n",
    "    lemmatized_tokens = [lemmatizer.lemmatize(word) for word in filtered_tokens]\n",
    "\n",
    "    # Join tokens back to form the preprocessed text\n",
    "    preprocessed_text = \" \".join(lemmatized_tokens)\n",
    "\n",
    "    return preprocessed_text\n",
    "\n",
    "df_twitter['text'] = df_twitter['text'].apply(advanced_text_preprocessing)"
   ]
  },
  {
   "cell_type": "code",
   "execution_count": 27,
   "metadata": {},
   "outputs": [
    {
     "data": {
      "text/plain": [
       "0    hey yankee yankeespr mlb wouldnt made sense pl...\n",
       "1    diane wdunlap realdonaldtrump trump never clai...\n",
       "2    july medium bulletin novel coronavirusupdates ...\n",
       "3    coronavirus covid death continue rise almost b...\n",
       "5    order logo graphicdesigner logodesign logodesi...\n",
       "Name: text, dtype: object"
      ]
     },
     "execution_count": 27,
     "metadata": {},
     "output_type": "execute_result"
    }
   ],
   "source": [
    "df_twitter['text'].head()"
   ]
  },
  {
   "cell_type": "markdown",
   "metadata": {},
   "source": [
    "## Part 3: Sentiment Analysis"
   ]
  },
  {
   "cell_type": "markdown",
   "metadata": {},
   "source": [
    "### Task 5: Perform Sentiment Analysis with Vader Library"
   ]
  },
  {
   "cell_type": "markdown",
   "metadata": {},
   "source": [
    "> We will analyze the sentiment of the tweets using a pretrained model called VADER. Unlike traditional supervised learning models, using VADER is convenient because it requires no training data. It can accurately understand the sentiment of texts containing emoticons, slang, and conjunctions shared in social media communication.\n",
    "\n",
    "> VADER provides a probability score for each input sentence, indicating whether it is positive, negative, or neutral. This allows us to gauge the sentiment of your Twitter data effectively.\n",
    "By leveraging the power of VADER, we can gain valuable insights into the sentiments expressed in our Twitter data without the need for extensive manual labeling or training data"
   ]
  },
  {
   "cell_type": "markdown",
   "metadata": {},
   "source": [
    "##### Perform sentiment analysis with vader library"
   ]
  },
  {
   "cell_type": "markdown",
   "metadata": {},
   "source": [
    "- Initialize VADER.\n",
    "- Save sentiment scores for each tweet in the text column in a new column called sentiment_scores.\n",
    "- Display a random sample of 10 values of the sentiment_scores and text columns"
   ]
  },
  {
   "cell_type": "code",
   "execution_count": 28,
   "metadata": {},
   "outputs": [],
   "source": [
    "# Initialize VADER\n",
    "sid = SentimentIntensityAnalyzer()\n",
    "\n",
    "# Get sentiment scores for each tweet\n",
    "df_twitter['sentiment_scores'] = df_twitter['text'].apply(lambda x: sid.polarity_scores(x))"
   ]
  },
  {
   "cell_type": "code",
   "execution_count": 29,
   "metadata": {},
   "outputs": [
    {
     "data": {
      "text/plain": [
       "0    {'neg': 0.112, 'neu': 0.64, 'pos': 0.248, 'com...\n",
       "1    {'neg': 0.0, 'neu': 0.832, 'pos': 0.168, 'comp...\n",
       "2    {'neg': 0.0, 'neu': 0.796, 'pos': 0.204, 'comp...\n",
       "3    {'neg': 0.433, 'neu': 0.488, 'pos': 0.079, 'co...\n",
       "5    {'neg': 0.0, 'neu': 1.0, 'pos': 0.0, 'compound...\n",
       "Name: sentiment_scores, dtype: object"
      ]
     },
     "execution_count": 29,
     "metadata": {},
     "output_type": "execute_result"
    }
   ],
   "source": [
    "df_twitter['sentiment_scores'].head()"
   ]
  },
  {
   "cell_type": "markdown",
   "metadata": {},
   "source": [
    "##### Display a random sample of 10 tweets with their sentiment scores"
   ]
  },
  {
   "cell_type": "code",
   "execution_count": 30,
   "metadata": {},
   "outputs": [
    {
     "data": {
      "text/plain": [
       "array([['happy hour shine make merry im pleased testify ur fixed game gave yesterd',\n",
       "        {'neg': 0.0, 'neu': 0.498, 'pos': 0.502, 'compound': 0.8779}],\n",
       "       ['lest need reminding far thing u world population world',\n",
       "        {'neg': 0.0, 'neu': 1.0, 'pos': 0.0, 'compound': 0.0}],\n",
       "       ['whether believe covid real notjust right thingthe sooner sooner',\n",
       "        {'neg': 0.0, 'neu': 1.0, 'pos': 0.0, 'compound': 0.0}],\n",
       "       ['reporter covering scientific topic covid pandemic sometimes struggle find right source',\n",
       "        {'neg': 0.187, 'neu': 0.813, 'pos': 0.0, 'compound': -0.3182}],\n",
       "       ['support yuvstrong youwecan amp wearamask challenge keep loved one safe covid',\n",
       "        {'neg': 0.0, 'neu': 0.393, 'pos': 0.607, 'compound': 0.8689}],\n",
       "       ['cure covid listen drs',\n",
       "        {'neg': 0.0, 'neu': 1.0, 'pos': 0.0, 'compound': 0.0}],\n",
       "       ['many charity stepping fight covid medresfdn national phd training programme',\n",
       "        {'neg': 0.194, 'neu': 0.597, 'pos': 0.209, 'compound': 0.0516}],\n",
       "       ['call affected covid crisis care home impacted pandemic',\n",
       "        {'neg': 0.41, 'neu': 0.36, 'pos': 0.23, 'compound': -0.3612}],\n",
       "       ['u failure holding back search coronavirus drug treatment covid americ',\n",
       "        {'neg': 0.292, 'neu': 0.708, 'pos': 0.0, 'compound': -0.5106}],\n",
       "       ['thanks sth auckland covid',\n",
       "        {'neg': 0.0, 'neu': 0.508, 'pos': 0.492, 'compound': 0.4404}]],\n",
       "      dtype=object)"
      ]
     },
     "execution_count": 30,
     "metadata": {},
     "output_type": "execute_result"
    }
   ],
   "source": [
    "df_twitter[['text','sentiment_scores']].sample(10).values"
   ]
  },
  {
   "cell_type": "markdown",
   "metadata": {},
   "source": [
    "### Task 6: Classify the Tweets into Positive, Neutral and Negative"
   ]
  },
  {
   "cell_type": "markdown",
   "metadata": {},
   "source": [
    "##### Classify the tweets into categories of positive, negative, or neutral sentiment"
   ]
  },
  {
   "cell_type": "code",
   "execution_count": null,
   "metadata": {},
   "outputs": [],
   "source": []
  },
  {
   "cell_type": "markdown",
   "metadata": {},
   "source": [
    "## Part 4: Trend Analysis and Visualization"
   ]
  },
  {
   "cell_type": "markdown",
   "metadata": {},
   "source": [
    "### Task 7: Display the Evolution of Sentiment Over Time"
   ]
  },
  {
   "cell_type": "markdown",
   "metadata": {},
   "source": [
    "##### Extract the top 3 countries to be used as a filter"
   ]
  },
  {
   "cell_type": "code",
   "execution_count": null,
   "metadata": {},
   "outputs": [],
   "source": []
  },
  {
   "cell_type": "markdown",
   "metadata": {},
   "source": [
    "##### Filter the DataFrame"
   ]
  },
  {
   "cell_type": "code",
   "execution_count": null,
   "metadata": {},
   "outputs": [],
   "source": []
  },
  {
   "cell_type": "markdown",
   "metadata": {},
   "source": [
    "##### Create sentiment over time by country based on `groupby`"
   ]
  },
  {
   "cell_type": "code",
   "execution_count": null,
   "metadata": {},
   "outputs": [],
   "source": []
  },
  {
   "cell_type": "markdown",
   "metadata": {},
   "source": [
    "##### Plot the top three countries sentiments over time"
   ]
  },
  {
   "cell_type": "code",
   "execution_count": null,
   "metadata": {},
   "outputs": [],
   "source": []
  },
  {
   "cell_type": "markdown",
   "metadata": {},
   "source": [
    "### Task 8: Use Wordcloud to Visualize Words Used in Sentiments"
   ]
  },
  {
   "cell_type": "markdown",
   "metadata": {},
   "source": [
    "##### Define the `create_word_cloud()` function"
   ]
  },
  {
   "cell_type": "code",
   "execution_count": null,
   "metadata": {},
   "outputs": [],
   "source": []
  },
  {
   "cell_type": "markdown",
   "metadata": {},
   "source": [
    "##### Creating word cloud for positive sentiment"
   ]
  },
  {
   "cell_type": "code",
   "execution_count": null,
   "metadata": {},
   "outputs": [],
   "source": []
  },
  {
   "cell_type": "markdown",
   "metadata": {},
   "source": [
    "##### Creating word cloud for negative sentiment"
   ]
  },
  {
   "cell_type": "code",
   "execution_count": null,
   "metadata": {},
   "outputs": [],
   "source": []
  },
  {
   "cell_type": "markdown",
   "metadata": {},
   "source": [
    "##### Creating word cloud for neutral sentiment"
   ]
  },
  {
   "cell_type": "code",
   "execution_count": null,
   "metadata": {},
   "outputs": [],
   "source": []
  },
  {
   "cell_type": "markdown",
   "metadata": {},
   "source": [
    "### Task 9: Display the Sentiment on a Geographical Heatmap"
   ]
  },
  {
   "cell_type": "markdown",
   "metadata": {},
   "source": [
    "##### Create mapping from positive, neutral and negative to an numerical value for visualization purpose"
   ]
  },
  {
   "cell_type": "code",
   "execution_count": null,
   "metadata": {},
   "outputs": [],
   "source": []
  },
  {
   "cell_type": "markdown",
   "metadata": {},
   "source": [
    "##### Visualize a geographical heatmap of all sentiment on the map"
   ]
  },
  {
   "cell_type": "code",
   "execution_count": null,
   "metadata": {},
   "outputs": [],
   "source": []
  },
  {
   "cell_type": "markdown",
   "metadata": {},
   "source": [
    "## Part 5: Topic Modeling "
   ]
  },
  {
   "cell_type": "markdown",
   "metadata": {},
   "source": [
    "### Task 10: Train the LDA (Gensim) Model"
   ]
  },
  {
   "cell_type": "markdown",
   "metadata": {},
   "source": [
    "##### Preprocess the text"
   ]
  },
  {
   "cell_type": "code",
   "execution_count": null,
   "metadata": {},
   "outputs": [],
   "source": []
  },
  {
   "cell_type": "markdown",
   "metadata": {},
   "source": [
    "##### Create a dictionary"
   ]
  },
  {
   "cell_type": "code",
   "execution_count": null,
   "metadata": {},
   "outputs": [],
   "source": []
  },
  {
   "cell_type": "markdown",
   "metadata": {},
   "source": [
    "##### Filter extremes"
   ]
  },
  {
   "cell_type": "code",
   "execution_count": null,
   "metadata": {},
   "outputs": [],
   "source": []
  },
  {
   "cell_type": "markdown",
   "metadata": {},
   "source": [
    "##### Create a corpus"
   ]
  },
  {
   "cell_type": "code",
   "execution_count": null,
   "metadata": {},
   "outputs": [],
   "source": []
  },
  {
   "cell_type": "markdown",
   "metadata": {},
   "source": [
    "##### Instantiate an LDA model "
   ]
  },
  {
   "cell_type": "code",
   "execution_count": null,
   "metadata": {},
   "outputs": [],
   "source": []
  },
  {
   "cell_type": "markdown",
   "metadata": {},
   "source": [
    "### Task 11: Evaluate the Model "
   ]
  },
  {
   "cell_type": "markdown",
   "metadata": {},
   "source": [
    "##### Print the topics"
   ]
  },
  {
   "cell_type": "code",
   "execution_count": null,
   "metadata": {},
   "outputs": [],
   "source": []
  },
  {
   "cell_type": "markdown",
   "metadata": {},
   "source": [
    "##### Compute the perplexity and coherence score"
   ]
  },
  {
   "cell_type": "code",
   "execution_count": null,
   "metadata": {},
   "outputs": [],
   "source": []
  },
  {
   "cell_type": "markdown",
   "metadata": {},
   "source": [
    "### Task 12: Classify Twitter Tweets into Topics"
   ]
  },
  {
   "cell_type": "markdown",
   "metadata": {},
   "source": [
    "##### Topic classification function"
   ]
  },
  {
   "cell_type": "code",
   "execution_count": null,
   "metadata": {},
   "outputs": [],
   "source": []
  },
  {
   "cell_type": "markdown",
   "metadata": {},
   "source": [
    "##### Classify all tweets"
   ]
  },
  {
   "cell_type": "code",
   "execution_count": null,
   "metadata": {},
   "outputs": [],
   "source": []
  },
  {
   "cell_type": "markdown",
   "metadata": {},
   "source": [
    "##### Examine topic distribution"
   ]
  },
  {
   "cell_type": "code",
   "execution_count": null,
   "metadata": {},
   "outputs": [],
   "source": []
  },
  {
   "cell_type": "markdown",
   "metadata": {},
   "source": [
    "## Part 6: Interpretation of Results"
   ]
  },
  {
   "cell_type": "markdown",
   "metadata": {},
   "source": [
    "### Task 13: Identify Relationships between Sentiment and Topic"
   ]
  },
  {
   "cell_type": "markdown",
   "metadata": {},
   "source": [
    "##### Grouping and aggregating data by topic and sentiment"
   ]
  },
  {
   "cell_type": "code",
   "execution_count": null,
   "metadata": {},
   "outputs": [],
   "source": []
  },
  {
   "cell_type": "markdown",
   "metadata": {},
   "source": [
    "##### Calculating proportions"
   ]
  },
  {
   "cell_type": "code",
   "execution_count": null,
   "metadata": {},
   "outputs": [],
   "source": []
  },
  {
   "cell_type": "markdown",
   "metadata": {},
   "source": [
    "##### Visualizing the results"
   ]
  },
  {
   "cell_type": "code",
   "execution_count": null,
   "metadata": {},
   "outputs": [],
   "source": []
  },
  {
   "cell_type": "markdown",
   "metadata": {},
   "source": [
    "### Task 14: Interpret the Topic Modeling Results"
   ]
  },
  {
   "cell_type": "markdown",
   "metadata": {},
   "source": [
    "##### Creating topic distance visualization"
   ]
  },
  {
   "cell_type": "code",
   "execution_count": null,
   "metadata": {},
   "outputs": [],
   "source": []
  },
  {
   "cell_type": "markdown",
   "metadata": {},
   "source": [
    "### Task 15: Compile your Findings into a Final Report with NBConvert"
   ]
  },
  {
   "cell_type": "markdown",
   "metadata": {},
   "source": [
    "##### Execute the command within the provided notebook cell"
   ]
  },
  {
   "cell_type": "code",
   "execution_count": null,
   "metadata": {},
   "outputs": [],
   "source": []
  },
  {
   "cell_type": "markdown",
   "metadata": {},
   "source": [
    "# CONGRATULATIONS"
   ]
  }
 ],
 "metadata": {
  "kernelspec": {
   "display_name": "Python 3",
   "language": "python",
   "name": "python3"
  },
  "language_info": {
   "codemirror_mode": {
    "name": "ipython",
    "version": 3
   },
   "file_extension": ".py",
   "mimetype": "text/x-python",
   "name": "python",
   "nbconvert_exporter": "python",
   "pygments_lexer": "ipython3",
   "version": "3.8.10"
  },
  "orig_nbformat": 4,
  "vscode": {
   "interpreter": {
    "hash": "916dbcbb3f70747c44a77c7bcd40155683ae19c65e1c03b4aa3499c5328201f1"
   }
  }
 },
 "nbformat": 4,
 "nbformat_minor": 2
}
